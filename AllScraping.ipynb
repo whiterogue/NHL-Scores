{
 "cells": [
  {
   "cell_type": "code",
   "execution_count": 51,
   "metadata": {},
   "outputs": [],
   "source": [
    "##Now that I've extracted the visiting team from each game, I'll go ahead and use the same technique to mine other game \n",
    "##and scoring details\n",
    "\n",
    "##The Prereqs:\n",
    "\n",
    "import pandas as pd\n",
    "from pandas import DataFrame\n",
    "import requests\n",
    "import urllib.request\n",
    "from bs4 import BeautifulSoup\n",
    "import re\n",
    "from IPython.display import Image\n",
    "\n",
    "##Reloading the url_c column\n",
    "\n",
    "url_c=pd.read_csv(\"C:/Users/maya rowen/Downloads/urls.csv\")\n",
    "url_c=url_c.iloc[:,0]\n",
    "\n",
    "##Splitting the urls into managable chunks\n",
    "\n",
    "url_c1=url_c[0:650]\n",
    "url_c2=url_c[650:1300]\n",
    "url_c3=url_c[1300:1950]\n",
    "url_c4=url_c[1950:2600]\n",
    "url_c5=url_c[2600:]"
   ]
  },
  {
   "cell_type": "code",
   "execution_count": 24,
   "metadata": {},
   "outputs": [
    {
     "data": {
      "text/plain": [
       "2600    http://www.nhl.com/scores/htmlreports/20192020...\n",
       "2601    http://www.nhl.com/scores/htmlreports/20192020...\n",
       "2602    http://www.nhl.com/scores/htmlreports/20192020...\n",
       "2603    http://www.nhl.com/scores/htmlreports/20192020...\n",
       "2604    http://www.nhl.com/scores/htmlreports/20192020...\n",
       "                              ...                        \n",
       "3225    http://www.nhl.com/scores/htmlreports/20192020...\n",
       "3226    http://www.nhl.com/scores/htmlreports/20192020...\n",
       "3227    http://www.nhl.com/scores/htmlreports/20192020...\n",
       "3228    http://www.nhl.com/scores/htmlreports/20192020...\n",
       "3229    http://www.nhl.com/scores/htmlreports/20192020...\n",
       "Name: 0, Length: 630, dtype: object"
      ]
     },
     "execution_count": 24,
     "metadata": {},
     "output_type": "execute_result"
    }
   ],
   "source": [
    "url_c5"
   ]
  },
  {
   "cell_type": "code",
   "execution_count": 14,
   "metadata": {},
   "outputs": [],
   "source": [
    "##First, I'll extract the home teams using an almost identical function to the one I used to get the visiting teams:\n",
    "\n",
    "##The only difference is that the home team name is in the 8th cell of the second table(index 7);\n",
    "##the visiting team was in the first cell.\n",
    "\n",
    "def home_f(x):\n",
    "    response=requests.get(x)\n",
    "    soup=BeautifulSoup(response.text, \"html.parser\")\n",
    "    table=soup.table.contents[1]\n",
    "    homer=table.findAll(style=\"font-size: 10px;font-weight:bold\")[7].get_text()##index 7, cell 8url_c\n",
    "    homer_bits=re.split(\"Game\",homer)\n",
    "    home=homer_bits[0]\n",
    "    return(home)"
   ]
  },
  {
   "cell_type": "code",
   "execution_count": 15,
   "metadata": {},
   "outputs": [],
   "source": [
    "##I run the function on each chunk of urls to return columns of home teams from each game\n",
    "home_c1=url_c1.apply(home_f)"
   ]
  },
  {
   "cell_type": "code",
   "execution_count": 16,
   "metadata": {},
   "outputs": [
    {
     "data": {
      "text/plain": [
       "0              WINNIPEG JETS\n",
       "1        PITTSBURGH PENGUINS\n",
       "2            EDMONTON OILERS\n",
       "3            SAN JOSE SHARKS\n",
       "4              BOSTON BRUINS\n",
       "               ...          \n",
       "645            WINNIPEG JETS\n",
       "646    COLUMBUS BLUE JACKETS\n",
       "647       MONTREAL CANADIENS\n",
       "648        DETROIT RED WINGS\n",
       "649      PITTSBURGH PENGUINS\n",
       "Name: 0, Length: 650, dtype: object"
      ]
     },
     "execution_count": 16,
     "metadata": {},
     "output_type": "execute_result"
    }
   ],
   "source": [
    "home_c1"
   ]
  },
  {
   "cell_type": "code",
   "execution_count": 17,
   "metadata": {},
   "outputs": [],
   "source": [
    "home_c2=url_c2.apply(home_f)"
   ]
  },
  {
   "cell_type": "code",
   "execution_count": 18,
   "metadata": {},
   "outputs": [],
   "source": [
    "home_c3=url_c3.apply(home_f)"
   ]
  },
  {
   "cell_type": "code",
   "execution_count": 20,
   "metadata": {},
   "outputs": [],
   "source": [
    "home_c4=url_c4.apply(home_f)"
   ]
  },
  {
   "cell_type": "code",
   "execution_count": 21,
   "metadata": {},
   "outputs": [],
   "source": [
    "home_c5=url_c5.apply(home_f)"
   ]
  },
  {
   "cell_type": "code",
   "execution_count": 56,
   "metadata": {},
   "outputs": [
    {
     "data": {
      "text/html": [
       "<div>\n",
       "<style scoped>\n",
       "    .dataframe tbody tr th:only-of-type {\n",
       "        vertical-align: middle;\n",
       "    }\n",
       "\n",
       "    .dataframe tbody tr th {\n",
       "        vertical-align: top;\n",
       "    }\n",
       "\n",
       "    .dataframe thead th {\n",
       "        text-align: right;\n",
       "    }\n",
       "</style>\n",
       "<table border=\"1\" class=\"dataframe\">\n",
       "  <thead>\n",
       "    <tr style=\"text-align: right;\">\n",
       "      <th></th>\n",
       "      <th>0</th>\n",
       "    </tr>\n",
       "  </thead>\n",
       "  <tbody>\n",
       "    <tr>\n",
       "      <td>0</td>\n",
       "      <td>WINNIPEG JETS</td>\n",
       "    </tr>\n",
       "    <tr>\n",
       "      <td>1</td>\n",
       "      <td>PITTSBURGH PENGUINS</td>\n",
       "    </tr>\n",
       "    <tr>\n",
       "      <td>2</td>\n",
       "      <td>EDMONTON OILERS</td>\n",
       "    </tr>\n",
       "    <tr>\n",
       "      <td>3</td>\n",
       "      <td>SAN JOSE SHARKS</td>\n",
       "    </tr>\n",
       "    <tr>\n",
       "      <td>4</td>\n",
       "      <td>BOSTON BRUINS</td>\n",
       "    </tr>\n",
       "    <tr>\n",
       "      <td>...</td>\n",
       "      <td>...</td>\n",
       "    </tr>\n",
       "    <tr>\n",
       "      <td>3225</td>\n",
       "      <td>CHICAGO BLACKHAWKS</td>\n",
       "    </tr>\n",
       "    <tr>\n",
       "      <td>3226</td>\n",
       "      <td>CALGARY FLAMES</td>\n",
       "    </tr>\n",
       "    <tr>\n",
       "      <td>3227</td>\n",
       "      <td>VEGAS GOLDEN KNIGHTS</td>\n",
       "    </tr>\n",
       "    <tr>\n",
       "      <td>3228</td>\n",
       "      <td>ANAHEIM DUCKS</td>\n",
       "    </tr>\n",
       "    <tr>\n",
       "      <td>3229</td>\n",
       "      <td>SAN JOSE SHARKS</td>\n",
       "    </tr>\n",
       "  </tbody>\n",
       "</table>\n",
       "<p>3230 rows × 1 columns</p>\n",
       "</div>"
      ],
      "text/plain": [
       "                         0\n",
       "0            WINNIPEG JETS\n",
       "1      PITTSBURGH PENGUINS\n",
       "2          EDMONTON OILERS\n",
       "3          SAN JOSE SHARKS\n",
       "4            BOSTON BRUINS\n",
       "...                    ...\n",
       "3225    CHICAGO BLACKHAWKS\n",
       "3226        CALGARY FLAMES\n",
       "3227  VEGAS GOLDEN KNIGHTS\n",
       "3228         ANAHEIM DUCKS\n",
       "3229       SAN JOSE SHARKS\n",
       "\n",
       "[3230 rows x 1 columns]"
      ]
     },
     "execution_count": 56,
     "metadata": {},
     "output_type": "execute_result"
    }
   ],
   "source": [
    "##stacking the home teams into a single column vector with 3230 elements\n",
    "home_c1=DataFrame(home_c1)\n",
    "home_c12=home_c1.append(pd.DataFrame(data = home_c2), ignore_index=True)\n",
    "home_c123=home_c12.append(pd.DataFrame(data = home_c3), ignore_index=True)\n",
    "home_c1234=home_c123.append(pd.DataFrame(data = home_c4), ignore_index=True)\n",
    "home_c12345=home_c1234.append(pd.DataFrame(data = home_c5), ignore_index=True)\n",
    "home_c=home_c12345.iloc[:,0]\n",
    "home_c12345"
   ]
  },
  {
   "cell_type": "code",
   "execution_count": null,
   "metadata": {},
   "outputs": [],
   "source": [
    "##The table indexed 7 in the html code gives details on each goal scored by either team in the game, including overtime\n",
    "##(if applicable)\n",
    "\n",
    "PATH = \"/Users/maya rowen/Pictures/\"\n",
    "Image(filename = PATH + \"scoringsummary.png\", width=900, height=900)\n",
    "\n",
    "##I'm interested in goal number (in the sequence of goals scored throughout the game by either team),\n",
    "\n",
    "## the period the goal was scored in (1,2,3 overtime, or shootout)\n",
    "\n",
    "##The time the goal was scored (mm:ss),\n",
    "##[notice that goal time is given in mmss format, but it listed as time within each 20 minute period, not as time within\n",
    "##the 60 minute game],\n",
    "\n",
    "##and the team who scored the goal (home or visitor)"
   ]
  },
  {
   "cell_type": "code",
   "execution_count": 58,
   "metadata": {},
   "outputs": [],
   "source": [
    "##Goal Times\n",
    "\n",
    "def goal_times_f(x):\n",
    "    response=requests.get(x)\n",
    "    soup=BeautifulSoup(response.text, \"html.parser\")\n",
    "    table=soup.table.contents[7]##goal time is in the 8th table, indexed 7\n",
    "    centers=table.findAll(align=\"center\")##goal times are centered within the table cell; this helps narrow down the text\n",
    "    lengt=len(centers)##the length of the coding for goal-scoring times varies with the number of goals in the gaem\n",
    "    combined_goals=(lengt-5)/5##every fifth centered element of table 8 is a goal time, starting with the 6th element\n",
    "    \n",
    "##This function will return a list of times for all goals scored in the game. Because the number of goals per game varies,\n",
    "##to determine how many times to iterate the function, I ask for the length of the list of cells with centered text in\n",
    "## table[7]. Each goal is associated with 5 cells with centered text. There are also 5 cells with centered text\n",
    "##not associated with a particular goal in table[7], hence '-5'\n",
    "##so (lengt-5)/5 tells us how many goals were scored in any game\n",
    "\n",
    "    mylist=[]##I create a blank list to fill with goal times in mm:ss format. The length is variant on goals scored\n",
    "    \n",
    "        \n",
    "    for x in range(7,lengt,5): ##The first goal time found in the 7th centered cell of the table. \n",
    "        ##Each goal time is 5 centered cells from the previous\n",
    "        mylist.append(str(centers[x].get_text()))##The function will return all goal times as list of strings.\n",
    "            \n",
    "    \n",
    "    return(mylist)"
   ]
  },
  {
   "cell_type": "code",
   "execution_count": 59,
   "metadata": {},
   "outputs": [],
   "source": [
    "goal_time_c1=url_c1.apply(goal_times_f)"
   ]
  },
  {
   "cell_type": "code",
   "execution_count": 61,
   "metadata": {},
   "outputs": [],
   "source": [
    "goal_time_c2=url_c2.apply(goal_times_f)"
   ]
  },
  {
   "cell_type": "code",
   "execution_count": 62,
   "metadata": {},
   "outputs": [],
   "source": [
    "goal_time_c3=url_c3.apply(goal_times_f)"
   ]
  },
  {
   "cell_type": "code",
   "execution_count": 63,
   "metadata": {},
   "outputs": [],
   "source": [
    "goal_time_c4=url_c4.apply(goal_times_f)"
   ]
  },
  {
   "cell_type": "code",
   "execution_count": 64,
   "metadata": {},
   "outputs": [],
   "source": [
    "goal_time_c5=url_c5.apply(goal_times_f)"
   ]
  },
  {
   "cell_type": "code",
   "execution_count": 70,
   "metadata": {},
   "outputs": [
    {
     "data": {
      "text/html": [
       "<div>\n",
       "<style scoped>\n",
       "    .dataframe tbody tr th:only-of-type {\n",
       "        vertical-align: middle;\n",
       "    }\n",
       "\n",
       "    .dataframe tbody tr th {\n",
       "        vertical-align: top;\n",
       "    }\n",
       "\n",
       "    .dataframe thead th {\n",
       "        text-align: right;\n",
       "    }\n",
       "</style>\n",
       "<table border=\"1\" class=\"dataframe\">\n",
       "  <thead>\n",
       "    <tr style=\"text-align: right;\">\n",
       "      <th></th>\n",
       "      <th>0</th>\n",
       "    </tr>\n",
       "  </thead>\n",
       "  <tbody>\n",
       "    <tr>\n",
       "      <td>0</td>\n",
       "      <td>[15:45, 17:40, 18:23, 8:32, 0:36, 8:07, 11:31,...</td>\n",
       "    </tr>\n",
       "    <tr>\n",
       "      <td>1</td>\n",
       "      <td>[6:37, 8:31, 17:45, 12:37, 15:37, 3:38, 13:46,...</td>\n",
       "    </tr>\n",
       "    <tr>\n",
       "      <td>2</td>\n",
       "      <td>[11:01, 8:07, 19:01]</td>\n",
       "    </tr>\n",
       "    <tr>\n",
       "      <td>3</td>\n",
       "      <td>[8:28, 11:16, 17:17, 19:41, 17:36, 3:12, 9:27,...</td>\n",
       "    </tr>\n",
       "    <tr>\n",
       "      <td>4</td>\n",
       "      <td>[8:37, 19:49, 5:48, 15:43, 17:07, 18:12, 19:25]</td>\n",
       "    </tr>\n",
       "    <tr>\n",
       "      <td>...</td>\n",
       "      <td>...</td>\n",
       "    </tr>\n",
       "    <tr>\n",
       "      <td>3225</td>\n",
       "      <td>[3:16, 8:22, 16:55, 6:43, 5:32, 19:23, 19:38]</td>\n",
       "    </tr>\n",
       "    <tr>\n",
       "      <td>3226</td>\n",
       "      <td>[4:39, 0:38, 9:38]</td>\n",
       "    </tr>\n",
       "    <tr>\n",
       "      <td>3227</td>\n",
       "      <td>[13:40, 15:01, 18:44, 19:56, 14:38, 15:34, 19:51]</td>\n",
       "    </tr>\n",
       "    <tr>\n",
       "      <td>3228</td>\n",
       "      <td>[10:13, 5:10, 16:56]</td>\n",
       "    </tr>\n",
       "    <tr>\n",
       "      <td>3229</td>\n",
       "      <td>[1:01, 13:28, 18:12, 2:09]</td>\n",
       "    </tr>\n",
       "  </tbody>\n",
       "</table>\n",
       "<p>3230 rows × 1 columns</p>\n",
       "</div>"
      ],
      "text/plain": [
       "                                                      0\n",
       "0     [15:45, 17:40, 18:23, 8:32, 0:36, 8:07, 11:31,...\n",
       "1     [6:37, 8:31, 17:45, 12:37, 15:37, 3:38, 13:46,...\n",
       "2                                  [11:01, 8:07, 19:01]\n",
       "3     [8:28, 11:16, 17:17, 19:41, 17:36, 3:12, 9:27,...\n",
       "4       [8:37, 19:49, 5:48, 15:43, 17:07, 18:12, 19:25]\n",
       "...                                                 ...\n",
       "3225      [3:16, 8:22, 16:55, 6:43, 5:32, 19:23, 19:38]\n",
       "3226                                 [4:39, 0:38, 9:38]\n",
       "3227  [13:40, 15:01, 18:44, 19:56, 14:38, 15:34, 19:51]\n",
       "3228                               [10:13, 5:10, 16:56]\n",
       "3229                         [1:01, 13:28, 18:12, 2:09]\n",
       "\n",
       "[3230 rows x 1 columns]"
      ]
     },
     "execution_count": 70,
     "metadata": {},
     "output_type": "execute_result"
    }
   ],
   "source": [
    "goal_time_c1=DataFrame(goal_time_c1)\n",
    "goal_time_c12=goal_time_c1.append(pd.DataFrame(data = goal_time_c2), ignore_index=True)\n",
    "goal_time_c123=goal_time_c12.append(pd.DataFrame(data = goal_time_c3), ignore_index=True)\n",
    "goal_time_c1234=goal_time_c123.append(pd.DataFrame(data = goal_time_c4), ignore_index=True)\n",
    "goal_time_c12345=goal_time_c1234.append(pd.DataFrame(data = goal_time_c5), ignore_index=True)\n",
    "goal_time_c=goal_time_c12345.iloc[:,0]\n",
    "goal_time_c12345"
   ]
  },
  {
   "cell_type": "code",
   "execution_count": 69,
   "metadata": {},
   "outputs": [
    {
     "data": {
      "text/plain": [
       "2600                                [12:59, 14:56, 16:16]\n",
       "2601       [3:57, 8:36, 14:42, 1:53, 15:09, 19:01, 19:10]\n",
       "2602                    [18:28, 6:45, 9:44, 13:12, 19:45]\n",
       "2603            [13:44, 14:21, 19:33, 8:56, 16:57, 19:38]\n",
       "2604    [4:55, 8:47, 11:14, 6:53, 18:12, 1:17, 10:56, ...\n",
       "                              ...                        \n",
       "3225        [3:16, 8:22, 16:55, 6:43, 5:32, 19:23, 19:38]\n",
       "3226                                   [4:39, 0:38, 9:38]\n",
       "3227    [13:40, 15:01, 18:44, 19:56, 14:38, 15:34, 19:51]\n",
       "3228                                 [10:13, 5:10, 16:56]\n",
       "3229                           [1:01, 13:28, 18:12, 2:09]\n",
       "Name: 0, Length: 630, dtype: object"
      ]
     },
     "execution_count": 69,
     "metadata": {},
     "output_type": "execute_result"
    }
   ],
   "source": [
    "goal_time_c5"
   ]
  },
  {
   "cell_type": "code",
   "execution_count": 75,
   "metadata": {},
   "outputs": [],
   "source": [
    "##Goal Periods\n",
    "\n",
    "def goal_periods_f(x):\n",
    "    response=requests.get(x)\n",
    "    soup=BeautifulSoup(response.text, \"html.parser\")\n",
    "    table=soup.table.contents[7]\n",
    "    centers=table.findAll(align=\"center\")\n",
    "    lengt=len(centers)\n",
    "    combined_goals=(lengt-5)/5\n",
    "  \n",
    "    ##This function returns the period each goal was scored in (1,2,3, OT, & SO)\n",
    "    \n",
    "    ##Like the goal time, goal period is in the 8th table (index 7).\n",
    "    \n",
    "    ##The text is centered, so 'findAll(align=\"center\")' still helps us find what we're looking for.\n",
    "    \n",
    "\n",
    "    \n",
    "    mylist=[]\n",
    "\n",
    "    ##As before,\n",
    "    \n",
    "        \n",
    "    for x in range(6,lengt,5):\n",
    "            ##The only difference in finding goal time and goal period is that a goal time is found in every fifth cell of \n",
    "            ##table 8, starting with the 7th cell, while goal times are found in every fifth centered element\n",
    "            ##of the HTML code for table 8 starting with element 7\n",
    "        mylist.append(str(centers[x].get_text()))\n",
    "        \n",
    "        ##I ask for the goal periods as a list\n",
    "    \n",
    "    return(mylist)"
   ]
  },
  {
   "cell_type": "code",
   "execution_count": 76,
   "metadata": {},
   "outputs": [],
   "source": [
    "goal_period_c1=url_c1.apply(goal_periods_f)"
   ]
  },
  {
   "cell_type": "code",
   "execution_count": 78,
   "metadata": {},
   "outputs": [],
   "source": [
    "goal_period_c2=url_c2.apply(goal_periods_f)"
   ]
  },
  {
   "cell_type": "code",
   "execution_count": 79,
   "metadata": {},
   "outputs": [],
   "source": [
    "goal_period_c3=url_c3.apply(goal_periods_f)"
   ]
  },
  {
   "cell_type": "code",
   "execution_count": 80,
   "metadata": {},
   "outputs": [],
   "source": [
    "goal_period_c4=url_c4.apply(goal_periods_f)"
   ]
  },
  {
   "cell_type": "code",
   "execution_count": 81,
   "metadata": {},
   "outputs": [],
   "source": [
    "goal_period_c5=url_c5.apply(goal_periods_f)"
   ]
  },
  {
   "cell_type": "code",
   "execution_count": 83,
   "metadata": {},
   "outputs": [
    {
     "data": {
      "text/html": [
       "<div>\n",
       "<style scoped>\n",
       "    .dataframe tbody tr th:only-of-type {\n",
       "        vertical-align: middle;\n",
       "    }\n",
       "\n",
       "    .dataframe tbody tr th {\n",
       "        vertical-align: top;\n",
       "    }\n",
       "\n",
       "    .dataframe thead th {\n",
       "        text-align: right;\n",
       "    }\n",
       "</style>\n",
       "<table border=\"1\" class=\"dataframe\">\n",
       "  <thead>\n",
       "    <tr style=\"text-align: right;\">\n",
       "      <th></th>\n",
       "      <th>0</th>\n",
       "    </tr>\n",
       "  </thead>\n",
       "  <tbody>\n",
       "    <tr>\n",
       "      <td>0</td>\n",
       "      <td>[1, 1, 1, 2, 3, 3, 3, 3, 3]</td>\n",
       "    </tr>\n",
       "    <tr>\n",
       "      <td>1</td>\n",
       "      <td>[1, 1, 1, 2, 2, 3, 3, 3, OT]</td>\n",
       "    </tr>\n",
       "    <tr>\n",
       "      <td>2</td>\n",
       "      <td>[1, 3, 3]</td>\n",
       "    </tr>\n",
       "    <tr>\n",
       "      <td>3</td>\n",
       "      <td>[1, 1, 1, 1, 2, 3, 3, 3]</td>\n",
       "    </tr>\n",
       "    <tr>\n",
       "      <td>4</td>\n",
       "      <td>[1, 1, 2, 2, 3, 3, 3]</td>\n",
       "    </tr>\n",
       "    <tr>\n",
       "      <td>...</td>\n",
       "      <td>...</td>\n",
       "    </tr>\n",
       "    <tr>\n",
       "      <td>3225</td>\n",
       "      <td>[1, 1, 1, 2, 3, 3, 3]</td>\n",
       "    </tr>\n",
       "    <tr>\n",
       "      <td>3226</td>\n",
       "      <td>[1, 2, 2]</td>\n",
       "    </tr>\n",
       "    <tr>\n",
       "      <td>3227</td>\n",
       "      <td>[1, 1, 1, 1, 2, 2, 3]</td>\n",
       "    </tr>\n",
       "    <tr>\n",
       "      <td>3228</td>\n",
       "      <td>[1, 2, 3]</td>\n",
       "    </tr>\n",
       "    <tr>\n",
       "      <td>3229</td>\n",
       "      <td>[2, 2, 2, 3]</td>\n",
       "    </tr>\n",
       "  </tbody>\n",
       "</table>\n",
       "<p>3230 rows × 1 columns</p>\n",
       "</div>"
      ],
      "text/plain": [
       "                                 0\n",
       "0      [1, 1, 1, 2, 3, 3, 3, 3, 3]\n",
       "1     [1, 1, 1, 2, 2, 3, 3, 3, OT]\n",
       "2                        [1, 3, 3]\n",
       "3         [1, 1, 1, 1, 2, 3, 3, 3]\n",
       "4            [1, 1, 2, 2, 3, 3, 3]\n",
       "...                            ...\n",
       "3225         [1, 1, 1, 2, 3, 3, 3]\n",
       "3226                     [1, 2, 2]\n",
       "3227         [1, 1, 1, 1, 2, 2, 3]\n",
       "3228                     [1, 2, 3]\n",
       "3229                  [2, 2, 2, 3]\n",
       "\n",
       "[3230 rows x 1 columns]"
      ]
     },
     "execution_count": 83,
     "metadata": {},
     "output_type": "execute_result"
    }
   ],
   "source": [
    "goal_period_c1=DataFrame(goal_period_c1)\n",
    "goal_period_c12=goal_period_c1.append(pd.DataFrame(data = goal_period_c2), ignore_index=True)\n",
    "goal_period_c123=goal_period_c12.append(pd.DataFrame(data = goal_period_c3), ignore_index=True)\n",
    "goal_period_c1234=goal_period_c123.append(pd.DataFrame(data = goal_period_c4), ignore_index=True)\n",
    "goal_period_c12345=goal_period_c1234.append(pd.DataFrame(data = goal_period_c5), ignore_index=True)\n",
    "goal_period_c=goal_period_c12345.iloc[:,0]\n",
    "goal_period_c12345"
   ]
  },
  {
   "cell_type": "code",
   "execution_count": 85,
   "metadata": {},
   "outputs": [],
   "source": [
    "#Goal Teams\n",
    "\n",
    "##Again, this function is almost identical to the other two, except the name of the team who scored is found in the 10th\n",
    "##centered text element of the 8th table's coding:\n",
    "def goal_teams_f(x):\n",
    "    response=requests.get(x)\n",
    "    soup=BeautifulSoup(response.text, \"html.parser\")\n",
    "    table=soup.table.contents[7]\n",
    "    centers=table.findAll(align=\"center\")\n",
    "    lengt=len(centers)\n",
    "    combined_goals=(lengt-5)/5\n",
    "  \n",
    "    mylist=[]\n",
    "    \n",
    "        \n",
    "    for x in range(9,lengt,5):\n",
    "        mylist.append(str(centers[x].get_text()))\n",
    "            \n",
    "    \n",
    "    return(mylist)"
   ]
  },
  {
   "cell_type": "code",
   "execution_count": 86,
   "metadata": {},
   "outputs": [],
   "source": [
    "goal_team_c1=url_c1.apply(goal_teams_f)"
   ]
  },
  {
   "cell_type": "code",
   "execution_count": 87,
   "metadata": {},
   "outputs": [],
   "source": [
    "goal_team_c2=url_c2.apply(goal_teams_f)"
   ]
  },
  {
   "cell_type": "code",
   "execution_count": 88,
   "metadata": {},
   "outputs": [],
   "source": [
    "goal_team_c3=url_c3.apply(goal_teams_f)"
   ]
  },
  {
   "cell_type": "code",
   "execution_count": 89,
   "metadata": {},
   "outputs": [],
   "source": [
    "goal_team_c4=url_c4.apply(goal_teams_f)"
   ]
  },
  {
   "cell_type": "code",
   "execution_count": 90,
   "metadata": {},
   "outputs": [],
   "source": [
    "goal_team_c5=url_c5.apply(goal_teams_f)"
   ]
  },
  {
   "cell_type": "code",
   "execution_count": 124,
   "metadata": {},
   "outputs": [
    {
     "data": {
      "text/plain": [
       "0       [TOR, TOR, TOR, TOR, TOR, TOR, WPG, TOR, WPG]\n",
       "1       [PIT, STL, STL, PIT, STL, STL, PIT, PIT, STL]\n",
       "2                                     [EDM, EDM, EDM]\n",
       "3            [PHI, PHI, S.J, S.J, PHI, S.J, PHI, PHI]\n",
       "4                 [BOS, NSH, BOS, BOS, BOS, NSH, NSH]\n",
       "                            ...                      \n",
       "3225              [NSH, NSH, NSH, CHI, CHI, NSH, NSH]\n",
       "3226                                  [CGY, MIN, CGY]\n",
       "3227              [L.A, L.A, L.A, L.A, VGK, VGK, L.A]\n",
       "3228                                  [DAL, DAL, DAL]\n",
       "3229                             [S.J, S.J, CBJ, S.J]\n",
       "Name: 0, Length: 3230, dtype: object"
      ]
     },
     "execution_count": 124,
     "metadata": {},
     "output_type": "execute_result"
    }
   ],
   "source": [
    "goal_team_c1=DataFrame(goal_team_c1)\n",
    "goal_team_c12=goal_team_c1.append(pd.DataFrame(data = goal_team_c2), ignore_index=True)\n",
    "goal_team_c123=goal_team_c12.append(pd.DataFrame(data = goal_team_c3), ignore_index=True)\n",
    "goal_team_c1234=goal_team_c123.append(pd.DataFrame(data = goal_team_c4), ignore_index=True)\n",
    "goal_team_c12345=goal_team_c1234.append(pd.DataFrame(data = goal_team_c5), ignore_index=True)\n",
    "goal_team_c=goal_team_c12345.iloc[:,0]\n",
    "goal_team_c"
   ]
  },
  {
   "cell_type": "code",
   "execution_count": 132,
   "metadata": {},
   "outputs": [
    {
     "data": {
      "text/html": [
       "<div>\n",
       "<style scoped>\n",
       "    .dataframe tbody tr th:only-of-type {\n",
       "        vertical-align: middle;\n",
       "    }\n",
       "\n",
       "    .dataframe tbody tr th {\n",
       "        vertical-align: top;\n",
       "    }\n",
       "\n",
       "    .dataframe thead th {\n",
       "        text-align: right;\n",
       "    }\n",
       "</style>\n",
       "<table border=\"1\" class=\"dataframe\">\n",
       "  <thead>\n",
       "    <tr style=\"text-align: right;\">\n",
       "      <th></th>\n",
       "      <th>home</th>\n",
       "      <th>visitor</th>\n",
       "      <th>goal_periods</th>\n",
       "      <th>goal_times</th>\n",
       "      <th>goal_team</th>\n",
       "    </tr>\n",
       "  </thead>\n",
       "  <tbody>\n",
       "    <tr>\n",
       "      <td>0</td>\n",
       "      <td>WINNIPEG JETS</td>\n",
       "      <td>TORONTO MAPLE LEAFS</td>\n",
       "      <td>[1, 1, 1, 2, 3, 3, 3, 3, 3]</td>\n",
       "      <td>[15:45, 17:40, 18:23, 8:32, 0:36, 8:07, 11:31,...</td>\n",
       "      <td>[TOR, TOR, TOR, TOR, TOR, TOR, WPG, TOR, WPG]</td>\n",
       "    </tr>\n",
       "    <tr>\n",
       "      <td>1</td>\n",
       "      <td>PITTSBURGH PENGUINS</td>\n",
       "      <td>ST. LOUIS BLUES</td>\n",
       "      <td>[1, 1, 1, 2, 2, 3, 3, 3, OT]</td>\n",
       "      <td>[6:37, 8:31, 17:45, 12:37, 15:37, 3:38, 13:46,...</td>\n",
       "      <td>[PIT, STL, STL, PIT, STL, STL, PIT, PIT, STL]</td>\n",
       "    </tr>\n",
       "    <tr>\n",
       "      <td>2</td>\n",
       "      <td>EDMONTON OILERS</td>\n",
       "      <td>CALGARY FLAMES</td>\n",
       "      <td>[1, 3, 3]</td>\n",
       "      <td>[11:01, 8:07, 19:01]</td>\n",
       "      <td>[EDM, EDM, EDM]</td>\n",
       "    </tr>\n",
       "    <tr>\n",
       "      <td>3</td>\n",
       "      <td>SAN JOSE SHARKS</td>\n",
       "      <td>PHILADELPHIA FLYERS</td>\n",
       "      <td>[1, 1, 1, 1, 2, 3, 3, 3]</td>\n",
       "      <td>[8:28, 11:16, 17:17, 19:41, 17:36, 3:12, 9:27,...</td>\n",
       "      <td>[PHI, PHI, S.J, S.J, PHI, S.J, PHI, PHI]</td>\n",
       "    </tr>\n",
       "    <tr>\n",
       "      <td>4</td>\n",
       "      <td>BOSTON BRUINS</td>\n",
       "      <td>NASHVILLE PREDATORS</td>\n",
       "      <td>[1, 1, 2, 2, 3, 3, 3]</td>\n",
       "      <td>[8:37, 19:49, 5:48, 15:43, 17:07, 18:12, 19:25]</td>\n",
       "      <td>[BOS, NSH, BOS, BOS, BOS, NSH, NSH]</td>\n",
       "    </tr>\n",
       "    <tr>\n",
       "      <td>...</td>\n",
       "      <td>...</td>\n",
       "      <td>...</td>\n",
       "      <td>...</td>\n",
       "      <td>...</td>\n",
       "      <td>...</td>\n",
       "    </tr>\n",
       "    <tr>\n",
       "      <td>3225</td>\n",
       "      <td>CHICAGO BLACKHAWKS</td>\n",
       "      <td>NASHVILLE PREDATORS</td>\n",
       "      <td>[1, 1, 1, 2, 3, 3, 3]</td>\n",
       "      <td>[3:16, 8:22, 16:55, 6:43, 5:32, 19:23, 19:38]</td>\n",
       "      <td>[NSH, NSH, NSH, CHI, CHI, NSH, NSH]</td>\n",
       "    </tr>\n",
       "    <tr>\n",
       "      <td>3226</td>\n",
       "      <td>CALGARY FLAMES</td>\n",
       "      <td>MINNESOTA WILD</td>\n",
       "      <td>[1, 2, 2]</td>\n",
       "      <td>[4:39, 0:38, 9:38]</td>\n",
       "      <td>[CGY, MIN, CGY]</td>\n",
       "    </tr>\n",
       "    <tr>\n",
       "      <td>3227</td>\n",
       "      <td>VEGAS GOLDEN KNIGHTS</td>\n",
       "      <td>LOS ANGELES KINGS</td>\n",
       "      <td>[1, 1, 1, 1, 2, 2, 3]</td>\n",
       "      <td>[13:40, 15:01, 18:44, 19:56, 14:38, 15:34, 19:51]</td>\n",
       "      <td>[L.A, L.A, L.A, L.A, VGK, VGK, L.A]</td>\n",
       "    </tr>\n",
       "    <tr>\n",
       "      <td>3228</td>\n",
       "      <td>ANAHEIM DUCKS</td>\n",
       "      <td>DALLAS STARS</td>\n",
       "      <td>[1, 2, 3]</td>\n",
       "      <td>[10:13, 5:10, 16:56]</td>\n",
       "      <td>[DAL, DAL, DAL]</td>\n",
       "    </tr>\n",
       "    <tr>\n",
       "      <td>3229</td>\n",
       "      <td>SAN JOSE SHARKS</td>\n",
       "      <td>COLUMBUS BLUE JACKETS</td>\n",
       "      <td>[2, 2, 2, 3]</td>\n",
       "      <td>[1:01, 13:28, 18:12, 2:09]</td>\n",
       "      <td>[S.J, S.J, CBJ, S.J]</td>\n",
       "    </tr>\n",
       "  </tbody>\n",
       "</table>\n",
       "<p>3230 rows × 5 columns</p>\n",
       "</div>"
      ],
      "text/plain": [
       "                      home                visitor  \\\n",
       "0            WINNIPEG JETS    TORONTO MAPLE LEAFS   \n",
       "1      PITTSBURGH PENGUINS        ST. LOUIS BLUES   \n",
       "2          EDMONTON OILERS         CALGARY FLAMES   \n",
       "3          SAN JOSE SHARKS    PHILADELPHIA FLYERS   \n",
       "4            BOSTON BRUINS    NASHVILLE PREDATORS   \n",
       "...                    ...                    ...   \n",
       "3225    CHICAGO BLACKHAWKS    NASHVILLE PREDATORS   \n",
       "3226        CALGARY FLAMES         MINNESOTA WILD   \n",
       "3227  VEGAS GOLDEN KNIGHTS      LOS ANGELES KINGS   \n",
       "3228         ANAHEIM DUCKS           DALLAS STARS   \n",
       "3229       SAN JOSE SHARKS  COLUMBUS BLUE JACKETS   \n",
       "\n",
       "                      goal_periods  \\\n",
       "0      [1, 1, 1, 2, 3, 3, 3, 3, 3]   \n",
       "1     [1, 1, 1, 2, 2, 3, 3, 3, OT]   \n",
       "2                        [1, 3, 3]   \n",
       "3         [1, 1, 1, 1, 2, 3, 3, 3]   \n",
       "4            [1, 1, 2, 2, 3, 3, 3]   \n",
       "...                            ...   \n",
       "3225         [1, 1, 1, 2, 3, 3, 3]   \n",
       "3226                     [1, 2, 2]   \n",
       "3227         [1, 1, 1, 1, 2, 2, 3]   \n",
       "3228                     [1, 2, 3]   \n",
       "3229                  [2, 2, 2, 3]   \n",
       "\n",
       "                                             goal_times  \\\n",
       "0     [15:45, 17:40, 18:23, 8:32, 0:36, 8:07, 11:31,...   \n",
       "1     [6:37, 8:31, 17:45, 12:37, 15:37, 3:38, 13:46,...   \n",
       "2                                  [11:01, 8:07, 19:01]   \n",
       "3     [8:28, 11:16, 17:17, 19:41, 17:36, 3:12, 9:27,...   \n",
       "4       [8:37, 19:49, 5:48, 15:43, 17:07, 18:12, 19:25]   \n",
       "...                                                 ...   \n",
       "3225      [3:16, 8:22, 16:55, 6:43, 5:32, 19:23, 19:38]   \n",
       "3226                                 [4:39, 0:38, 9:38]   \n",
       "3227  [13:40, 15:01, 18:44, 19:56, 14:38, 15:34, 19:51]   \n",
       "3228                               [10:13, 5:10, 16:56]   \n",
       "3229                         [1:01, 13:28, 18:12, 2:09]   \n",
       "\n",
       "                                          goal_team  \n",
       "0     [TOR, TOR, TOR, TOR, TOR, TOR, WPG, TOR, WPG]  \n",
       "1     [PIT, STL, STL, PIT, STL, STL, PIT, PIT, STL]  \n",
       "2                                   [EDM, EDM, EDM]  \n",
       "3          [PHI, PHI, S.J, S.J, PHI, S.J, PHI, PHI]  \n",
       "4               [BOS, NSH, BOS, BOS, BOS, NSH, NSH]  \n",
       "...                                             ...  \n",
       "3225            [NSH, NSH, NSH, CHI, CHI, NSH, NSH]  \n",
       "3226                                [CGY, MIN, CGY]  \n",
       "3227            [L.A, L.A, L.A, L.A, VGK, VGK, L.A]  \n",
       "3228                                [DAL, DAL, DAL]  \n",
       "3229                           [S.J, S.J, CBJ, S.J]  \n",
       "\n",
       "[3230 rows x 5 columns]"
      ]
     },
     "execution_count": 132,
     "metadata": {},
     "output_type": "execute_result"
    }
   ],
   "source": [
    "##Now that I've created columns for home team, goal time, goal period, and goal team, I'll import my column of visiting \n",
    "##teams from the last notebook and create a single dataframe:\n",
    "\n",
    "visitor_C=pd.read_csv(\"C:/Users/maya rowen/Downloads/visitor_C.csv\")\n",
    "visitor_c=visitor_C.iloc[:,]\n",
    "\n",
    "nhl_data=pd.concat([home_c, visitor_c,goal_period_c,goal_time_c,goal_team_c],axis=1)\n",
    "                  \n",
    "nhl_data.columns = ['home','visitor','goal_periods','goal_times','goal_team']\n",
    "\n",
    "nhl_data"
   ]
  },
  {
   "cell_type": "code",
   "execution_count": 133,
   "metadata": {},
   "outputs": [],
   "source": [
    "##and there you have it\n",
    "\n",
    "##Next time I'll start converting this data into a more usable format, by creating individual columns for each element\n",
    "##of the list variables...\n",
    "\n",
    "export_csv = nhl_data.to_csv(r'C:/Users/maya rowen/Downloads/nhl_data_lists.csv', index = None, header=True)"
   ]
  },
  {
   "cell_type": "code",
   "execution_count": 134,
   "metadata": {},
   "outputs": [
    {
     "data": {
      "text/plain": [
       "<matplotlib.axes._subplots.AxesSubplot at 0x1a72a528a48>"
      ]
     },
     "execution_count": 134,
     "metadata": {},
     "output_type": "execute_result"
    },
    {
     "data": {
      "image/png": "[encoded data removed]",
      "text/plain": [
       "<Figure size 432x288 with 1 Axes>"
      ]
     },
     "metadata": {
      "needs_background": "light"
     },
     "output_type": "display_data"
    }
   ],
   "source": [
    "##Before I wrap up this section though, I'll make a quick histogram to take a first glance at the scoring distribution\n",
    "##of the games in my data.\n",
    "\n",
    "##Since my listed columns have a elements that are statistics corresponding to each goal in a given game,\n",
    "##the length of any of them is the total number of goals by both teams in that game:\n",
    "\n",
    "nhl_data['total goals']=(nhl_data['goal_times']).apply(len)\n",
    "nhl_data['total goals']\n",
    "total_goals=DataFrame(nhl_data['total goals'])\n",
    "total_goals.plot.hist(bins=15,rwidth=0.9)"
   ]
  },
  {
   "cell_type": "code",
   "execution_count": null,
   "metadata": {},
   "outputs": [],
   "source": []
  }
 ],
 "metadata": {
  "kernelspec": {
   "display_name": "Python 3",
   "language": "python",
   "name": "python3"
  },
  "language_info": {
   "codemirror_mode": {
    "name": "ipython",
    "version": 3
   },
   "file_extension": ".py",
   "mimetype": "text/x-python",
   "name": "python",
   "nbconvert_exporter": "python",
   "pygments_lexer": "ipython3",
   "version": "3.7.4"
  }
 },
 "nbformat": 4,
 "nbformat_minor": 2
}
